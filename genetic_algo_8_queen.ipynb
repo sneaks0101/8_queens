{
 "cells": [
  {
   "cell_type": "code",
   "execution_count": 2,
   "metadata": {},
   "outputs": [],
   "source": [
    "import math\n",
    "import random"
   ]
  },
  {
   "cell_type": "code",
   "execution_count": 115,
   "metadata": {},
   "outputs": [],
   "source": [
    "brd=[0,3,4,5,1,5,4,3]"
   ]
  },
  {
   "cell_type": "code",
   "execution_count": 116,
   "metadata": {},
   "outputs": [],
   "source": [
    "#horizontal_clashes\n",
    "count=0\n",
    "for i in range (0,len(brd)):\n",
    "    for j in range(i+1,len(brd)):\n",
    "        if(brd[i]==brd[j]):\n",
    "            count=count+1\n",
    "\n"
   ]
  },
  {
   "cell_type": "code",
   "execution_count": 117,
   "metadata": {},
   "outputs": [],
   "source": [
    "x=len(brd)"
   ]
  },
  {
   "cell_type": "code",
   "execution_count": 118,
   "metadata": {},
   "outputs": [],
   "source": [
    "#diagonal clasehs\n",
    "count1=0\n",
    "count2=0\n",
    "for i in range (0,x):\n",
    "    m=brd[i]\n",
    "    for k,j in zip(range(m+1,x),range(i+1,x)):\n",
    "        \n",
    "        if (brd[j]==k):\n",
    "            count1+=1\n",
    "#brd1=[6,7,6,5,1,2,4,3]\n",
    "\n",
    "for i in range(-1,-x-1,-1):\n",
    "    m=brd[i]\n",
    "    for k, j in zip(range(m+1,x),range(i-1,-9,-1)):\n",
    "        if(brd[j]==k):\n",
    "            count2+=1\n",
    "        "
   ]
  },
  {
   "cell_type": "code",
   "execution_count": 122,
   "metadata": {},
   "outputs": [
    {
     "data": {
      "text/plain": [
       "3"
      ]
     },
     "execution_count": 122,
     "metadata": {},
     "output_type": "execute_result"
    }
   ],
   "source": [
    "count"
   ]
  },
  {
   "cell_type": "code",
   "execution_count": 3,
   "metadata": {},
   "outputs": [],
   "source": [
    "#making random chromosomes \n",
    "def random_chromosome(no_q):\n",
    "    return [ random.randint(0, no_q-1) for _ in range(no_q) ]"
   ]
  },
  {
   "cell_type": "code",
   "execution_count": 135,
   "metadata": {},
   "outputs": [],
   "source": [
    "#no_q=8\n",
    "#population = [random_chromosome(no_q) for _ in range(20)]\n"
   ]
  },
  {
   "cell_type": "code",
   "execution_count": 6,
   "metadata": {},
   "outputs": [],
   "source": [
    "def fitness(board):\n",
    "    \n",
    "    x=len(board)\n",
    "    #horizontal_clashes\n",
    "    count=0\n",
    "    for i in range (0,len(board)):\n",
    "        for j in range(i+1,len(board)):\n",
    "            if(board[i]==board[j]):\n",
    "                count=count+1\n",
    "    \n",
    "    #diagonal clasehs\n",
    "    count1=0\n",
    "    count2=0\n",
    "    for i in range (0,x):\n",
    "        m=board[i]\n",
    "        for k,j in zip(range(m+1,x),range(i+1,x)):\n",
    "            if (board[j]==k):\n",
    "                count+=1\n",
    "#brd1=[6,7,6,5,1,2,4,3]\n",
    "\n",
    "    for i in range(-1,-x-1,-1):\n",
    "        m=board[i]\n",
    "        for k, j in zip(range(m+1,x),range(i-1,-9,-1)):\n",
    "            if(board[j]==k):\n",
    "                count+=1\n",
    "\n",
    "    return int(maxFitness - count) #28-(2+3)=23\n"
   ]
  },
  {
   "cell_type": "code",
   "execution_count": null,
   "metadata": {},
   "outputs": [],
   "source": []
  },
  {
   "cell_type": "code",
   "execution_count": 10,
   "metadata": {},
   "outputs": [],
   "source": [
    "def probability(chromosome, fitness):\n",
    "    return fitness(chromosome) / maxFitness"
   ]
  },
  {
   "cell_type": "code",
   "execution_count": null,
   "metadata": {},
   "outputs": [],
   "source": []
  },
  {
   "cell_type": "code",
   "execution_count": 13,
   "metadata": {},
   "outputs": [],
   "source": [
    "def random_pick(population, probabilities):\n",
    "    populationWithProbabilty = zip(population, probabilities)\n",
    "    total = sum(w for c, w in populationWithProbabilty)\n",
    "    r = random.uniform(0, total)\n",
    "    upto = 0\n",
    "    for c, w in zip(population, probabilities):\n",
    "        if upto + w >= r:\n",
    "            return c\n",
    "        upto += w\n",
    "    assert False, \"Shouldn't get here\""
   ]
  },
  {
   "cell_type": "code",
   "execution_count": null,
   "metadata": {},
   "outputs": [],
   "source": []
  },
  {
   "cell_type": "code",
   "execution_count": 19,
   "metadata": {},
   "outputs": [],
   "source": [
    "def mutate(x):  #randomly changing the value of a random index of a chromosome\n",
    "    n = len(x)\n",
    "    c = random.randint(0, n - 1)\n",
    "    m = random.randint(1, n)\n",
    "    x[c] = m\n",
    "    return x"
   ]
  },
  {
   "cell_type": "code",
   "execution_count": null,
   "metadata": {},
   "outputs": [],
   "source": []
  },
  {
   "cell_type": "code",
   "execution_count": 30,
   "metadata": {},
   "outputs": [],
   "source": [
    "def genetic_queen(population, fitness):\n",
    "    mutation_probability = 0.03\n",
    "    new_population = []\n",
    "    probabilities = [probability(n, fitness) for n in population]\n",
    "    for i in range(len(population)):\n",
    "        x = random_pick(population, probabilities) #choosing two best chromosomes\n",
    "        y = random_pick(population, probabilities) \n",
    "        child = reproduce(x, y) #creating two new chromosomes from the two best chromosomes\n",
    "        if random.random() < mutation_probability:\n",
    "            child = mutate(child)\n",
    "        #print_chromosome(child)\n",
    "        new_population.append(child)\n",
    "        if fitness(child) == maxFitness: break\n",
    "    return new_population\n"
   ]
  },
  {
   "cell_type": "code",
   "execution_count": null,
   "metadata": {},
   "outputs": [],
   "source": []
  },
  {
   "cell_type": "code",
   "execution_count": 17,
   "metadata": {},
   "outputs": [],
   "source": [
    "def print_chromosome(chrom):\n",
    "    print(\"Chromosome = {},  Fitness = {}\"\n",
    "        .format(str(chrom), fitness(chrom)))"
   ]
  },
  {
   "cell_type": "code",
   "execution_count": null,
   "metadata": {},
   "outputs": [],
   "source": []
  },
  {
   "cell_type": "code",
   "execution_count": 15,
   "metadata": {},
   "outputs": [],
   "source": [
    "def reproduce(x, y): #doing cross_over between two chromosomes\n",
    "    n = len(x)\n",
    "    c = random.randint(0, n - 1)\n",
    "    return x[0:c] + y[c:n]"
   ]
  },
  {
   "cell_type": "code",
   "execution_count": 32,
   "metadata": {},
   "outputs": [
    {
     "name": "stdout",
     "output_type": "stream",
     "text": [
      "=== Generation 1 ===\n",
      "\n",
      "Maximum Fitness = 25\n",
      "=== Generation 2 ===\n",
      "\n",
      "Maximum Fitness = 24\n",
      "=== Generation 3 ===\n",
      "\n",
      "Maximum Fitness = 25\n",
      "=== Generation 4 ===\n",
      "\n",
      "Maximum Fitness = 24\n",
      "=== Generation 5 ===\n",
      "\n",
      "Maximum Fitness = 25\n",
      "=== Generation 6 ===\n",
      "\n",
      "Maximum Fitness = 25\n",
      "=== Generation 7 ===\n",
      "\n",
      "Maximum Fitness = 25\n",
      "=== Generation 8 ===\n",
      "\n",
      "Maximum Fitness = 25\n",
      "=== Generation 9 ===\n",
      "\n",
      "Maximum Fitness = 25\n",
      "=== Generation 10 ===\n",
      "\n",
      "Maximum Fitness = 25\n",
      "=== Generation 11 ===\n",
      "\n",
      "Maximum Fitness = 25\n",
      "=== Generation 12 ===\n",
      "\n",
      "Maximum Fitness = 26\n",
      "=== Generation 13 ===\n",
      "\n",
      "Maximum Fitness = 25\n",
      "=== Generation 14 ===\n",
      "\n",
      "Maximum Fitness = 25\n",
      "=== Generation 15 ===\n",
      "\n",
      "Maximum Fitness = 25\n",
      "=== Generation 16 ===\n",
      "\n",
      "Maximum Fitness = 25\n",
      "=== Generation 17 ===\n",
      "\n",
      "Maximum Fitness = 25\n",
      "=== Generation 18 ===\n",
      "\n",
      "Maximum Fitness = 26\n",
      "=== Generation 19 ===\n",
      "\n",
      "Maximum Fitness = 26\n",
      "=== Generation 20 ===\n",
      "\n",
      "Maximum Fitness = 27\n",
      "=== Generation 21 ===\n",
      "\n",
      "Maximum Fitness = 27\n",
      "=== Generation 22 ===\n",
      "\n",
      "Maximum Fitness = 26\n",
      "=== Generation 23 ===\n",
      "\n",
      "Maximum Fitness = 27\n",
      "=== Generation 24 ===\n",
      "\n",
      "Maximum Fitness = 27\n",
      "=== Generation 25 ===\n",
      "\n",
      "Maximum Fitness = 27\n",
      "=== Generation 26 ===\n",
      "\n",
      "Maximum Fitness = 27\n",
      "=== Generation 27 ===\n",
      "\n",
      "Maximum Fitness = 28\n",
      "Solved in Generation 27!\n",
      "\n",
      "One of the solutions: \n",
      "Chromosome = [5, 7, 1, 3, 0, 6, 4, 2],  Fitness = 28\n"
     ]
    }
   ],
   "source": [
    "if __name__ == \"__main__\":\n",
    "    no_q=8\n",
    "    maxFitness = (no_q*(no_q-1))/2  # 8*7/2 = 28\n",
    "    population = [random_chromosome(no_q) for _ in range(100)]\n",
    "\n",
    "    generation = 1\n",
    "\n",
    "    while not maxFitness in [fitness(chrom) for chrom in population]:\n",
    "        print(\"=== Generation {} ===\".format(generation))\n",
    "        population = genetic_queen(population, fitness)\n",
    "        print(\"\")\n",
    "        print(\"Maximum Fitness = {}\".format(max([fitness(n) for n in population])))\n",
    "        generation += 1\n",
    "    chrom_out = []\n",
    "    print(\"Solved in Generation {}!\".format(generation-1))\n",
    "    for chrom in population:\n",
    "        if fitness(chrom) == maxFitness:\n",
    "            print(\"\");\n",
    "            print(\"One of the solutions: \")\n",
    "            chrom_out = chrom\n",
    "            print_chromosome(chrom)"
   ]
  },
  {
   "cell_type": "code",
   "execution_count": null,
   "metadata": {},
   "outputs": [],
   "source": [
    "if __name__ == \"__main__\":\n",
    "    no_q=8                          #No of Queen=8\n",
    "    maxFitness = (no_q*(no_q-1))/2  # 8*7/2 = 28\n",
    "    \n",
    "    population = [random_chromosome(no_q) for _ in range(100)] #Generating random set of boards with 8 queens\n",
    "\n",
    "    generation = 1\n",
    "\n",
    "    while not maxFitness in [fitness(chrom) for chrom in population]:   #Calculating max. Fitness\n",
    "        print(\"=== Generation {} ===\".format(generation))\n",
    "        population = genetic_queen(population, fitness)                 # \n",
    "        print(\"\")\n",
    "        print(\"Maximum Fitness = {}\".format(max([fitness(n) for n in population])))\n",
    "        generation += 1\n",
    "    chrom_out = []\n",
    "    print(\"Solved in Generation {}!\".format(generation-1))\n",
    "    for chrom in population:\n",
    "        if fitness(chrom) == maxFitness:\n",
    "            print(\"\");\n",
    "            print(\"One of the solutions: \")\n",
    "            chrom_out = chrom\n",
    "            print_chromosome(chrom)"
   ]
  }
 ],
 "metadata": {
  "kernelspec": {
   "display_name": "Python 3",
   "language": "python",
   "name": "python3"
  },
  "language_info": {
   "codemirror_mode": {
    "name": "ipython",
    "version": 3
   },
   "file_extension": ".py",
   "mimetype": "text/x-python",
   "name": "python",
   "nbconvert_exporter": "python",
   "pygments_lexer": "ipython3",
   "version": "3.7.1"
  }
 },
 "nbformat": 4,
 "nbformat_minor": 2
}
